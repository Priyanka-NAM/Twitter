{
 "cells": [
  {
   "cell_type": "code",
   "execution_count": 1,
   "metadata": {},
   "outputs": [],
   "source": [
    "import numpy as np\n",
    "import pandas as pd\n",
    "import matplotlib.pyplot as plt\n",
    "from textwrap import wrap\n",
    "\n",
    "from sklearn.metrics import accuracy_score\n",
    "\n",
    "from sklearn.ensemble import VotingClassifier\n",
    "from sklearn.ensemble import GradientBoostingClassifier\n",
    "from sklearn.ensemble import AdaBoostClassifier"
   ]
  },
  {
   "cell_type": "code",
   "execution_count": 2,
   "metadata": {},
   "outputs": [],
   "source": [
    "# !pipenv install pandas\n",
    "# !pipenv install numpy\n",
    "# !pipenv install matplotlib\n",
    "# !pipenv install sklearn\n",
    "# !pipenv install wrap"
   ]
  },
  {
   "cell_type": "markdown",
   "metadata": {},
   "source": [
    "Data for classification http://ama.liglab.fr/data/buzz/classification/Twitter/"
   ]
  },
  {
   "cell_type": "code",
   "execution_count": 3,
   "metadata": {},
   "outputs": [],
   "source": [
    "twitter_data = pd.read_table('Twitter-Absolute-Sigma-500.data',sep=\",\")"
   ]
  },
  {
   "cell_type": "code",
   "execution_count": 4,
   "metadata": {},
   "outputs": [
    {
     "data": {
      "text/plain": [
       "(140706, 78)"
      ]
     },
     "execution_count": 4,
     "metadata": {},
     "output_type": "execute_result"
    }
   ],
   "source": [
    "twitter_data.shape"
   ]
  },
  {
   "cell_type": "markdown",
   "metadata": {},
   "source": [
    "# The data dosen't have column names.\n",
    "Giving coloumn names based on data here http://ama.liglab.fr/data/buzz/classification/Twitter/Absolute_labeling/Twitter-Absolute-Sigma-500.names\n",
    "\n",
    "Attributes explanation:\n",
    "\n",
    "1. **Columns [0  -  6]** => Number of Created Discussions (NCD)\n",
    "    <br /> This feature measures the number of discussions created at time step t and involving the instance's topic.<br /><br />\n",
    "2. **Columns [7  - 13]** => Author Increase (AI)\n",
    "    <br />This featurethe number of new authors interacting on the instance's topic at time t (i.e. its popularity)<br /><br />\n",
    "3. **Columns [14 - 20]** => Attention Level (measured with number of authors) (AS(NA))\n",
    "    <br />This feature is a measure of the attention payed to a the instance's topic on a social media.<br /><br />\n",
    "4. **Columns [21 - 27]** => Burstiness Level (BL)\n",
    "    <br />The burstiness level for a topic z at a time t is defined as the ratio of ncd and nad<br /><br />\n",
    "5. **Columns [28 - 34]** => Number of Atomic Containers (NAC)\n",
    "    <br />This feature measures the total number of atomic containers generated through the whole social media on the instance's topic until time t.<br /><br />\n",
    "6. **Columns [35 - 41]** => Attention Level (measured with number of contributions) (AS(NAC))\n",
    "    <br />This feature is a measure of the attention payed to a the instance's topic on a social media.<br /><br />\n",
    "7. **Columns [42 - 48]** => Contribution Sparseness (CS)\n",
    "    <br />This feature is a measure of spreading of contributions over discussion for the instance's topic at time t.<br /><br />\n",
    "8. **Columns [49 - 55]** => Author Interaction (AT)\n",
    "    <br />This feature measures the average number of authors interacting on the instance's topic within a discussion.<br /><br />\n",
    "9. **Columns [56 - 62]** => Number of Authors (NA)\n",
    "    <br />This feature measures the number of authors interacting on the instance's topic at time t.<br /><br />\n",
    "10. **Columns [63 - 69]** => Average Discussions Length (ADL)\n",
    "    <br />This feature directly measures the average length of a discussion belonging to the instance's topic.<br /><br />\n",
    "11. **Columns [70 - 76]** => Average Discussions Length (NAD)\n",
    "    <br />This features measures the number of discussions involving the instance's topic until time t.<br /><br />"
   ]
  },
  {
   "cell_type": "code",
   "execution_count": 5,
   "metadata": {},
   "outputs": [],
   "source": [
    "twitter_data.columns= [\"NCD_0\", \"NCD_1\", \"NCD_2\", \"NCD_3\", \"NCD_4\", \"NCD_5\", \"NCD_6\", \"AI_0\", \"AI_1\", \"AI_2\", \"AI_3\", \"AI_4\", \"AI_5\", \"AI_6\", \"AS_NA_0\", \"AS_NA_1\", \"AS_NA_2\", \"AS_NA_3\", \"AS_NA_4\", \"AS_NA_5\", \"AS_NA_6\", \"BL_0\", \"BL_1\", \"BL_2\", \"BL_3\", \"BL_4\", \"BL_5\", \"BL_6\", \"NAC_0\", \"NAC_1\", \"NAC_2\", \"NAC_3\", \"NAC_4\", \"NAC_5\", \"NAC_6\", \"AS_NAC_0\", \"AS_NAC_1\", \"AS_NAC_2\", \"AS_NAC_3\", \"AS_NAC_4\", \"AS_NAC_5\", \"AS_NAC_6\", \"CS_0\", \"CS_1\", \"CS_2\", \"CS_3\", \"CS_4\", \"CS_5\", \"CS_6\", \"AT_0\", \"AT_1\", \"AT_2\", \"AT_3\", \"AT_4\", \"AT_5\", \"AT_6\", \"NA_0\", \"NA_1\", \"NA_2\", \"NA_3\", \"NA_4\", \"NA_5\", \"NA_6\", \"ADL_0\", \"ADL_1\", \"ADL_2\", \"ADL_3\", \"ADL_4\", \"ADL_5\", \"ADL_6\", \"NAD_0\", \"NAD_1\", \"NAD_2\", \"NAD_3\", \"NAD_4\", \"NAD_5\", \"NAD_6\", \"buzz\"]"
   ]
  },
  {
   "cell_type": "code",
   "execution_count": 6,
   "metadata": {},
   "outputs": [
    {
     "data": {
      "text/html": [
       "<div>\n",
       "<style scoped>\n",
       "    .dataframe tbody tr th:only-of-type {\n",
       "        vertical-align: middle;\n",
       "    }\n",
       "\n",
       "    .dataframe tbody tr th {\n",
       "        vertical-align: top;\n",
       "    }\n",
       "\n",
       "    .dataframe thead th {\n",
       "        text-align: right;\n",
       "    }\n",
       "</style>\n",
       "<table border=\"1\" class=\"dataframe\">\n",
       "  <thead>\n",
       "    <tr style=\"text-align: right;\">\n",
       "      <th></th>\n",
       "      <th>NCD_0</th>\n",
       "      <th>NCD_1</th>\n",
       "      <th>NCD_2</th>\n",
       "      <th>NCD_3</th>\n",
       "      <th>NCD_4</th>\n",
       "      <th>NCD_5</th>\n",
       "      <th>NCD_6</th>\n",
       "      <th>AI_0</th>\n",
       "      <th>AI_1</th>\n",
       "      <th>AI_2</th>\n",
       "      <th>...</th>\n",
       "      <th>ADL_5</th>\n",
       "      <th>ADL_6</th>\n",
       "      <th>NAD_0</th>\n",
       "      <th>NAD_1</th>\n",
       "      <th>NAD_2</th>\n",
       "      <th>NAD_3</th>\n",
       "      <th>NAD_4</th>\n",
       "      <th>NAD_5</th>\n",
       "      <th>NAD_6</th>\n",
       "      <th>buzz</th>\n",
       "    </tr>\n",
       "  </thead>\n",
       "  <tbody>\n",
       "    <tr>\n",
       "      <th>count</th>\n",
       "      <td>140706.000000</td>\n",
       "      <td>140706.000000</td>\n",
       "      <td>140706.000000</td>\n",
       "      <td>140706.000000</td>\n",
       "      <td>140706.000000</td>\n",
       "      <td>140706.000000</td>\n",
       "      <td>140706.000000</td>\n",
       "      <td>140706.000000</td>\n",
       "      <td>140706.000000</td>\n",
       "      <td>140706.000000</td>\n",
       "      <td>...</td>\n",
       "      <td>140706.000000</td>\n",
       "      <td>140706.000000</td>\n",
       "      <td>140706.000000</td>\n",
       "      <td>140706.000000</td>\n",
       "      <td>140706.000000</td>\n",
       "      <td>140706.000000</td>\n",
       "      <td>140706.000000</td>\n",
       "      <td>140706.000000</td>\n",
       "      <td>140706.000000</td>\n",
       "      <td>140706.000000</td>\n",
       "    </tr>\n",
       "    <tr>\n",
       "      <th>mean</th>\n",
       "      <td>172.274729</td>\n",
       "      <td>155.145054</td>\n",
       "      <td>165.458829</td>\n",
       "      <td>176.816085</td>\n",
       "      <td>186.933308</td>\n",
       "      <td>216.202621</td>\n",
       "      <td>243.860276</td>\n",
       "      <td>87.046871</td>\n",
       "      <td>78.635438</td>\n",
       "      <td>84.266001</td>\n",
       "      <td>...</td>\n",
       "      <td>1.113444</td>\n",
       "      <td>1.196132</td>\n",
       "      <td>172.833717</td>\n",
       "      <td>155.625311</td>\n",
       "      <td>165.933031</td>\n",
       "      <td>177.310349</td>\n",
       "      <td>187.459405</td>\n",
       "      <td>216.769711</td>\n",
       "      <td>244.472965</td>\n",
       "      <td>0.197390</td>\n",
       "    </tr>\n",
       "    <tr>\n",
       "      <th>std</th>\n",
       "      <td>509.870507</td>\n",
       "      <td>471.570282</td>\n",
       "      <td>495.357468</td>\n",
       "      <td>528.350500</td>\n",
       "      <td>560.330850</td>\n",
       "      <td>632.185796</td>\n",
       "      <td>707.400841</td>\n",
       "      <td>234.729351</td>\n",
       "      <td>218.444310</td>\n",
       "      <td>233.533494</td>\n",
       "      <td>...</td>\n",
       "      <td>1.374292</td>\n",
       "      <td>1.826157</td>\n",
       "      <td>510.935798</td>\n",
       "      <td>472.459796</td>\n",
       "      <td>496.230805</td>\n",
       "      <td>529.285749</td>\n",
       "      <td>561.309068</td>\n",
       "      <td>633.201370</td>\n",
       "      <td>708.435459</td>\n",
       "      <td>0.398031</td>\n",
       "    </tr>\n",
       "    <tr>\n",
       "      <th>min</th>\n",
       "      <td>0.000000</td>\n",
       "      <td>0.000000</td>\n",
       "      <td>0.000000</td>\n",
       "      <td>0.000000</td>\n",
       "      <td>0.000000</td>\n",
       "      <td>0.000000</td>\n",
       "      <td>0.000000</td>\n",
       "      <td>0.000000</td>\n",
       "      <td>0.000000</td>\n",
       "      <td>0.000000</td>\n",
       "      <td>...</td>\n",
       "      <td>0.000000</td>\n",
       "      <td>0.000000</td>\n",
       "      <td>0.000000</td>\n",
       "      <td>0.000000</td>\n",
       "      <td>0.000000</td>\n",
       "      <td>0.000000</td>\n",
       "      <td>0.000000</td>\n",
       "      <td>0.000000</td>\n",
       "      <td>0.000000</td>\n",
       "      <td>0.000000</td>\n",
       "    </tr>\n",
       "    <tr>\n",
       "      <th>25%</th>\n",
       "      <td>3.000000</td>\n",
       "      <td>2.000000</td>\n",
       "      <td>3.000000</td>\n",
       "      <td>3.000000</td>\n",
       "      <td>3.000000</td>\n",
       "      <td>4.000000</td>\n",
       "      <td>5.000000</td>\n",
       "      <td>2.000000</td>\n",
       "      <td>2.000000</td>\n",
       "      <td>2.000000</td>\n",
       "      <td>...</td>\n",
       "      <td>1.000000</td>\n",
       "      <td>1.000000</td>\n",
       "      <td>3.000000</td>\n",
       "      <td>2.000000</td>\n",
       "      <td>3.000000</td>\n",
       "      <td>3.000000</td>\n",
       "      <td>3.000000</td>\n",
       "      <td>4.000000</td>\n",
       "      <td>6.000000</td>\n",
       "      <td>0.000000</td>\n",
       "    </tr>\n",
       "    <tr>\n",
       "      <th>50%</th>\n",
       "      <td>22.000000</td>\n",
       "      <td>19.000000</td>\n",
       "      <td>20.000000</td>\n",
       "      <td>22.000000</td>\n",
       "      <td>23.000000</td>\n",
       "      <td>28.000000</td>\n",
       "      <td>33.000000</td>\n",
       "      <td>13.000000</td>\n",
       "      <td>11.000000</td>\n",
       "      <td>13.000000</td>\n",
       "      <td>...</td>\n",
       "      <td>1.000000</td>\n",
       "      <td>1.000000</td>\n",
       "      <td>22.000000</td>\n",
       "      <td>19.000000</td>\n",
       "      <td>21.000000</td>\n",
       "      <td>22.000000</td>\n",
       "      <td>23.000000</td>\n",
       "      <td>28.000000</td>\n",
       "      <td>33.000000</td>\n",
       "      <td>0.000000</td>\n",
       "    </tr>\n",
       "    <tr>\n",
       "      <th>75%</th>\n",
       "      <td>125.000000</td>\n",
       "      <td>112.000000</td>\n",
       "      <td>119.000000</td>\n",
       "      <td>126.000000</td>\n",
       "      <td>133.000000</td>\n",
       "      <td>161.000000</td>\n",
       "      <td>186.000000</td>\n",
       "      <td>70.000000</td>\n",
       "      <td>64.000000</td>\n",
       "      <td>67.000000</td>\n",
       "      <td>...</td>\n",
       "      <td>1.100000</td>\n",
       "      <td>1.119048</td>\n",
       "      <td>126.000000</td>\n",
       "      <td>113.000000</td>\n",
       "      <td>119.000000</td>\n",
       "      <td>127.000000</td>\n",
       "      <td>134.000000</td>\n",
       "      <td>162.000000</td>\n",
       "      <td>187.000000</td>\n",
       "      <td>0.000000</td>\n",
       "    </tr>\n",
       "    <tr>\n",
       "      <th>max</th>\n",
       "      <td>24210.000000</td>\n",
       "      <td>22899.000000</td>\n",
       "      <td>20495.000000</td>\n",
       "      <td>27007.000000</td>\n",
       "      <td>30957.000000</td>\n",
       "      <td>28603.000000</td>\n",
       "      <td>37505.000000</td>\n",
       "      <td>15105.000000</td>\n",
       "      <td>15730.000000</td>\n",
       "      <td>16389.000000</td>\n",
       "      <td>...</td>\n",
       "      <td>185.666672</td>\n",
       "      <td>295.000000</td>\n",
       "      <td>24301.000000</td>\n",
       "      <td>22980.000000</td>\n",
       "      <td>20495.000000</td>\n",
       "      <td>27071.000000</td>\n",
       "      <td>31028.000000</td>\n",
       "      <td>28697.000000</td>\n",
       "      <td>37505.000000</td>\n",
       "      <td>1.000000</td>\n",
       "    </tr>\n",
       "  </tbody>\n",
       "</table>\n",
       "<p>8 rows × 78 columns</p>\n",
       "</div>"
      ],
      "text/plain": [
       "               NCD_0          NCD_1          NCD_2          NCD_3  \\\n",
       "count  140706.000000  140706.000000  140706.000000  140706.000000   \n",
       "mean      172.274729     155.145054     165.458829     176.816085   \n",
       "std       509.870507     471.570282     495.357468     528.350500   \n",
       "min         0.000000       0.000000       0.000000       0.000000   \n",
       "25%         3.000000       2.000000       3.000000       3.000000   \n",
       "50%        22.000000      19.000000      20.000000      22.000000   \n",
       "75%       125.000000     112.000000     119.000000     126.000000   \n",
       "max     24210.000000   22899.000000   20495.000000   27007.000000   \n",
       "\n",
       "               NCD_4          NCD_5          NCD_6           AI_0  \\\n",
       "count  140706.000000  140706.000000  140706.000000  140706.000000   \n",
       "mean      186.933308     216.202621     243.860276      87.046871   \n",
       "std       560.330850     632.185796     707.400841     234.729351   \n",
       "min         0.000000       0.000000       0.000000       0.000000   \n",
       "25%         3.000000       4.000000       5.000000       2.000000   \n",
       "50%        23.000000      28.000000      33.000000      13.000000   \n",
       "75%       133.000000     161.000000     186.000000      70.000000   \n",
       "max     30957.000000   28603.000000   37505.000000   15105.000000   \n",
       "\n",
       "                AI_1           AI_2  ...          ADL_5          ADL_6  \\\n",
       "count  140706.000000  140706.000000  ...  140706.000000  140706.000000   \n",
       "mean       78.635438      84.266001  ...       1.113444       1.196132   \n",
       "std       218.444310     233.533494  ...       1.374292       1.826157   \n",
       "min         0.000000       0.000000  ...       0.000000       0.000000   \n",
       "25%         2.000000       2.000000  ...       1.000000       1.000000   \n",
       "50%        11.000000      13.000000  ...       1.000000       1.000000   \n",
       "75%        64.000000      67.000000  ...       1.100000       1.119048   \n",
       "max     15730.000000   16389.000000  ...     185.666672     295.000000   \n",
       "\n",
       "               NAD_0          NAD_1          NAD_2          NAD_3  \\\n",
       "count  140706.000000  140706.000000  140706.000000  140706.000000   \n",
       "mean      172.833717     155.625311     165.933031     177.310349   \n",
       "std       510.935798     472.459796     496.230805     529.285749   \n",
       "min         0.000000       0.000000       0.000000       0.000000   \n",
       "25%         3.000000       2.000000       3.000000       3.000000   \n",
       "50%        22.000000      19.000000      21.000000      22.000000   \n",
       "75%       126.000000     113.000000     119.000000     127.000000   \n",
       "max     24301.000000   22980.000000   20495.000000   27071.000000   \n",
       "\n",
       "               NAD_4          NAD_5          NAD_6           buzz  \n",
       "count  140706.000000  140706.000000  140706.000000  140706.000000  \n",
       "mean      187.459405     216.769711     244.472965       0.197390  \n",
       "std       561.309068     633.201370     708.435459       0.398031  \n",
       "min         0.000000       0.000000       0.000000       0.000000  \n",
       "25%         3.000000       4.000000       6.000000       0.000000  \n",
       "50%        23.000000      28.000000      33.000000       0.000000  \n",
       "75%       134.000000     162.000000     187.000000       0.000000  \n",
       "max     31028.000000   28697.000000   37505.000000       1.000000  \n",
       "\n",
       "[8 rows x 78 columns]"
      ]
     },
     "execution_count": 6,
     "metadata": {},
     "output_type": "execute_result"
    }
   ],
   "source": [
    "twitter_data.describe()"
   ]
  },
  {
   "cell_type": "code",
   "execution_count": 7,
   "metadata": {},
   "outputs": [
    {
     "name": "stdout",
     "output_type": "stream",
     "text": [
      "<class 'pandas.core.frame.DataFrame'>\n",
      "RangeIndex: 140706 entries, 0 to 140705\n",
      "Data columns (total 78 columns):\n",
      " #   Column    Non-Null Count   Dtype  \n",
      "---  ------    --------------   -----  \n",
      " 0   NCD_0     140706 non-null  int64  \n",
      " 1   NCD_1     140706 non-null  int64  \n",
      " 2   NCD_2     140706 non-null  int64  \n",
      " 3   NCD_3     140706 non-null  int64  \n",
      " 4   NCD_4     140706 non-null  int64  \n",
      " 5   NCD_5     140706 non-null  int64  \n",
      " 6   NCD_6     140706 non-null  int64  \n",
      " 7   AI_0      140706 non-null  int64  \n",
      " 8   AI_1      140706 non-null  int64  \n",
      " 9   AI_2      140706 non-null  int64  \n",
      " 10  AI_3      140706 non-null  int64  \n",
      " 11  AI_4      140706 non-null  int64  \n",
      " 12  AI_5      140706 non-null  int64  \n",
      " 13  AI_6      140706 non-null  int64  \n",
      " 14  AS_NA_0   140706 non-null  float64\n",
      " 15  AS_NA_1   140706 non-null  float64\n",
      " 16  AS_NA_2   140706 non-null  float64\n",
      " 17  AS_NA_3   140706 non-null  float64\n",
      " 18  AS_NA_4   140706 non-null  float64\n",
      " 19  AS_NA_5   140706 non-null  float64\n",
      " 20  AS_NA_6   140706 non-null  float64\n",
      " 21  BL_0      140706 non-null  float64\n",
      " 22  BL_1      140706 non-null  float64\n",
      " 23  BL_2      140706 non-null  float64\n",
      " 24  BL_3      140706 non-null  float64\n",
      " 25  BL_4      140706 non-null  float64\n",
      " 26  BL_5      140706 non-null  float64\n",
      " 27  BL_6      140706 non-null  float64\n",
      " 28  NAC_0     140706 non-null  int64  \n",
      " 29  NAC_1     140706 non-null  int64  \n",
      " 30  NAC_2     140706 non-null  int64  \n",
      " 31  NAC_3     140706 non-null  int64  \n",
      " 32  NAC_4     140706 non-null  int64  \n",
      " 33  NAC_5     140706 non-null  int64  \n",
      " 34  NAC_6     140706 non-null  int64  \n",
      " 35  AS_NAC_0  140706 non-null  float64\n",
      " 36  AS_NAC_1  140706 non-null  float64\n",
      " 37  AS_NAC_2  140706 non-null  float64\n",
      " 38  AS_NAC_3  140706 non-null  float64\n",
      " 39  AS_NAC_4  140706 non-null  float64\n",
      " 40  AS_NAC_5  140706 non-null  float64\n",
      " 41  AS_NAC_6  140706 non-null  float64\n",
      " 42  CS_0      140706 non-null  float64\n",
      " 43  CS_1      140706 non-null  float64\n",
      " 44  CS_2      140706 non-null  float64\n",
      " 45  CS_3      140706 non-null  float64\n",
      " 46  CS_4      140706 non-null  float64\n",
      " 47  CS_5      140706 non-null  float64\n",
      " 48  CS_6      140706 non-null  float64\n",
      " 49  AT_0      140706 non-null  float64\n",
      " 50  AT_1      140706 non-null  float64\n",
      " 51  AT_2      140706 non-null  float64\n",
      " 52  AT_3      140706 non-null  float64\n",
      " 53  AT_4      140706 non-null  float64\n",
      " 54  AT_5      140706 non-null  float64\n",
      " 55  AT_6      140706 non-null  float64\n",
      " 56  NA_0      140706 non-null  int64  \n",
      " 57  NA_1      140706 non-null  int64  \n",
      " 58  NA_2      140706 non-null  int64  \n",
      " 59  NA_3      140706 non-null  int64  \n",
      " 60  NA_4      140706 non-null  int64  \n",
      " 61  NA_5      140706 non-null  int64  \n",
      " 62  NA_6      140706 non-null  int64  \n",
      " 63  ADL_0     140706 non-null  float64\n",
      " 64  ADL_1     140706 non-null  float64\n",
      " 65  ADL_2     140706 non-null  float64\n",
      " 66  ADL_3     140706 non-null  float64\n",
      " 67  ADL_4     140706 non-null  float64\n",
      " 68  ADL_5     140706 non-null  float64\n",
      " 69  ADL_6     140706 non-null  float64\n",
      " 70  NAD_0     140706 non-null  int64  \n",
      " 71  NAD_1     140706 non-null  int64  \n",
      " 72  NAD_2     140706 non-null  int64  \n",
      " 73  NAD_3     140706 non-null  int64  \n",
      " 74  NAD_4     140706 non-null  int64  \n",
      " 75  NAD_5     140706 non-null  int64  \n",
      " 76  NAD_6     140706 non-null  int64  \n",
      " 77  buzz      140706 non-null  float64\n",
      "dtypes: float64(43), int64(35)\n",
      "memory usage: 83.7 MB\n"
     ]
    }
   ],
   "source": [
    "twitter_data.info()"
   ]
  },
  {
   "cell_type": "code",
   "execution_count": 8,
   "metadata": {},
   "outputs": [],
   "source": [
    "twitter_data['buzz'] = twitter_data['buzz'].map( {1.0: 1, 0.0: 0} ).astype(int)"
   ]
  },
  {
   "cell_type": "code",
   "execution_count": 9,
   "metadata": {},
   "outputs": [],
   "source": [
    "X = twitter_data"
   ]
  },
  {
   "cell_type": "code",
   "execution_count": 10,
   "metadata": {},
   "outputs": [],
   "source": [
    "X= X.drop(['buzz'],axis = 1)\n",
    "y = twitter_data['buzz']"
   ]
  },
  {
   "cell_type": "code",
   "execution_count": 11,
   "metadata": {},
   "outputs": [
    {
     "data": {
      "text/plain": [
       "0.19739030318536524"
      ]
     },
     "execution_count": 11,
     "metadata": {},
     "output_type": "execute_result"
    }
   ],
   "source": [
    "y.sum()/y.count()"
   ]
  },
  {
   "cell_type": "code",
   "execution_count": 12,
   "metadata": {},
   "outputs": [
    {
     "data": {
      "text/plain": [
       "0.8026096968146348"
      ]
     },
     "execution_count": 12,
     "metadata": {},
     "output_type": "execute_result"
    }
   ],
   "source": [
    "max(y.mean(), 1 - y.mean())"
   ]
  },
  {
   "cell_type": "code",
   "execution_count": 13,
   "metadata": {},
   "outputs": [],
   "source": [
    "from sklearn.model_selection import train_test_split"
   ]
  },
  {
   "cell_type": "code",
   "execution_count": 14,
   "metadata": {},
   "outputs": [],
   "source": [
    "Dummytrain,sample_data,Dummytrain2,sample_target = train_test_split(X, y, shuffle = True, test_size = 0.1)"
   ]
  },
  {
   "cell_type": "code",
   "execution_count": 15,
   "metadata": {},
   "outputs": [],
   "source": [
    "X = sample_data\n",
    "y = sample_target"
   ]
  },
  {
   "cell_type": "code",
   "execution_count": 16,
   "metadata": {},
   "outputs": [
    {
     "data": {
      "text/plain": [
       "(14071, 77)"
      ]
     },
     "execution_count": 16,
     "metadata": {},
     "output_type": "execute_result"
    }
   ],
   "source": [
    "X.shape"
   ]
  },
  {
   "cell_type": "code",
   "execution_count": 17,
   "metadata": {},
   "outputs": [],
   "source": [
    "X_train_org, X_test_org, y_train, y_test = train_test_split(X, y, random_state=0)"
   ]
  },
  {
   "cell_type": "code",
   "execution_count": 18,
   "metadata": {},
   "outputs": [],
   "source": [
    "from sklearn.preprocessing import MinMaxScaler"
   ]
  },
  {
   "cell_type": "code",
   "execution_count": 19,
   "metadata": {},
   "outputs": [],
   "source": [
    "scaler = MinMaxScaler()\n",
    "X_train = scaler.fit_transform(X_train_org)\n",
    "X_test = scaler.transform(X_test_org)\n",
    "\n",
    "X_full_scaled = scaler.fit_transform(X)"
   ]
  },
  {
   "cell_type": "code",
   "execution_count": null,
   "metadata": {},
   "outputs": [],
   "source": []
  },
  {
   "cell_type": "markdown",
   "metadata": {},
   "source": [
    "# Apply Four Voting Classifiers - Hard and Soft Voting"
   ]
  },
  {
   "cell_type": "markdown",
   "metadata": {},
   "source": [
    "### Classifier 1 - Logistic Regression"
   ]
  },
  {
   "cell_type": "code",
   "execution_count": 20,
   "metadata": {},
   "outputs": [],
   "source": [
    "from sklearn.linear_model import LogisticRegression\n",
    "logistic_classifier = LogisticRegression(solver='newton-cg',max_iter=300, C=100)"
   ]
  },
  {
   "cell_type": "markdown",
   "metadata": {},
   "source": [
    "### Classifier 2 - KNN Classifier"
   ]
  },
  {
   "cell_type": "code",
   "execution_count": 21,
   "metadata": {},
   "outputs": [],
   "source": [
    "from sklearn.neighbors import KNeighborsClassifier\n",
    "knn_classifier = KNeighborsClassifier(30)"
   ]
  },
  {
   "cell_type": "markdown",
   "metadata": {},
   "source": [
    "### Classifier 3 - Linear SVC"
   ]
  },
  {
   "cell_type": "code",
   "execution_count": 22,
   "metadata": {},
   "outputs": [],
   "source": [
    "from sklearn.svm import LinearSVC\n",
    "linear_svc_classifier = LinearSVC(C=10, max_iter=20000)"
   ]
  },
  {
   "cell_type": "markdown",
   "metadata": {},
   "source": [
    "### Classifier 4 - Decision Tree Classifier"
   ]
  },
  {
   "cell_type": "code",
   "execution_count": 23,
   "metadata": {},
   "outputs": [],
   "source": [
    "from sklearn.tree import DecisionTreeClassifier\n",
    "decision_tree_classifier = DecisionTreeClassifier(max_depth=3)"
   ]
  },
  {
   "cell_type": "markdown",
   "metadata": {},
   "source": [
    "### Classifier 5 - SGD Classifier"
   ]
  },
  {
   "cell_type": "code",
   "execution_count": 24,
   "metadata": {},
   "outputs": [
    {
     "name": "stderr",
     "output_type": "stream",
     "text": [
      "C:\\Users\\ankur\\anaconda3\\lib\\site-packages\\sklearn\\utils\\deprecation.py:143: FutureWarning: The sklearn.linear_model.stochastic_gradient module is  deprecated in version 0.22 and will be removed in version 0.24. The corresponding classes / functions should instead be imported from sklearn.linear_model. Anything that cannot be imported from sklearn.linear_model is now part of the private API.\n",
      "  warnings.warn(message, FutureWarning)\n"
     ]
    }
   ],
   "source": [
    "from sklearn.linear_model.stochastic_gradient import SGDClassifier\n",
    "sgd_classifier = SGDClassifier()"
   ]
  },
  {
   "cell_type": "markdown",
   "metadata": {},
   "source": [
    "### Classifier 6 - MultiNomial Naive Bayes Classifier"
   ]
  },
  {
   "cell_type": "code",
   "execution_count": 25,
   "metadata": {},
   "outputs": [],
   "source": [
    "from sklearn.naive_bayes import MultinomialNB\n",
    "multinm_classifier = MultinomialNB()"
   ]
  },
  {
   "cell_type": "markdown",
   "metadata": {},
   "source": [
    "### Classifier 7 - SVC Classifier"
   ]
  },
  {
   "cell_type": "code",
   "execution_count": 26,
   "metadata": {},
   "outputs": [],
   "source": [
    "from sklearn.svm import SVC\n",
    "svc_classifier = SVC()"
   ]
  },
  {
   "cell_type": "code",
   "execution_count": null,
   "metadata": {},
   "outputs": [],
   "source": []
  },
  {
   "cell_type": "markdown",
   "metadata": {},
   "source": [
    "### Selecting Top 4 Classifier from the list of 7 base Classifier"
   ]
  },
  {
   "cell_type": "code",
   "execution_count": 27,
   "metadata": {},
   "outputs": [
    {
     "name": "stdout",
     "output_type": "stream",
     "text": [
      "LogisticRegression 0.9670267197271177\n",
      "KNeighborsClassifier 0.961910176236498\n",
      "LinearSVC 0.9675952245594087\n",
      "DecisionTreeClassifier 0.9656054576463899\n",
      "SGDClassifier 0.9474133030130756\n",
      "MultinomialNB 0.9064809550881182\n",
      "SVC 0.9411597498578738\n"
     ]
    }
   ],
   "source": [
    "classifier_scores = {}\n",
    "scores = list()\n",
    "classifiers = [logistic_classifier, knn_classifier, linear_svc_classifier, decision_tree_classifier, sgd_classifier, multinm_classifier, svc_classifier]\n",
    "for classifier in classifiers:\n",
    "    classifier.fit(X_train, y_train)\n",
    "    y_pred = classifier.predict(X_test)\n",
    "    score = accuracy_score(y_test, y_pred)\n",
    "    classifier_scores[classifier.__class__.__name__] = score\n",
    "    print(classifier.__class__.__name__, score)\n",
    "    \n",
    "s = pd.DataFrame(classifier_scores, index=[0]).T\n",
    "s.columns =[\"score\"]\n",
    "s = s.sort_values(by=\"score\")"
   ]
  },
  {
   "cell_type": "code",
   "execution_count": 28,
   "metadata": {},
   "outputs": [
    {
     "data": {
      "text/plain": [
       "(0.0, 1.0)"
      ]
     },
     "execution_count": 28,
     "metadata": {},
     "output_type": "execute_result"
    },
    {
     "data": {
      "image/png": "[encoded data removed]",
      "text/plain": [
       "<Figure size 1440x720 with 1 Axes>"
      ]
     },
     "metadata": {
      "needs_background": "light"
     },
     "output_type": "display_data"
    }
   ],
   "source": [
    "fig, ax = plt.subplots(nrows=1, ncols=1, figsize=(20,10))\n",
    "y_pos = np.arange(1, len(s)+1)\n",
    "\n",
    "hbars = ax.barh(y_pos, s[\"score\"].values, align='center')\n",
    "ax.set_yticks(y_pos)\n",
    "ax.set_yticklabels(s.index.to_list(), rotation=15, fontsize=19)\n",
    "\n",
    "\n",
    "ax.invert_yaxis()  # labels read top-to-bottom\n",
    "ax.set_xlabel('Accuracy')\n",
    "ax.set_title('Accuracy Comparison with all the Classifiers', fontsize=20)\n",
    "\n",
    "# Label with specially formatted floats\n",
    "ax.set_xlim(right=15)  # adjust xlim to fit labels\n",
    "ax.set_xlim(0,1)"
   ]
  },
  {
   "cell_type": "code",
   "execution_count": null,
   "metadata": {},
   "outputs": [],
   "source": []
  },
  {
   "cell_type": "markdown",
   "metadata": {},
   "source": [
    "## Voting Classifier with Hard Voting"
   ]
  },
  {
   "cell_type": "code",
   "execution_count": 29,
   "metadata": {},
   "outputs": [
    {
     "name": "stdout",
     "output_type": "stream",
     "text": [
      "Score Ensemble with hard coding: 0.9673109721432632\n"
     ]
    }
   ],
   "source": [
    "from sklearn.ensemble import VotingClassifier\n",
    "from sklearn.metrics import accuracy_score\n",
    "\n",
    "voting_classifier = VotingClassifier(estimators=[('logistic_classifier', logistic_classifier),('knn_classifier', knn_classifier),('decision_tree_classifier', decision_tree_classifier),('linear_svc_classifier',linear_svc_classifier)], voting='hard')\n",
    "voting_classifier.fit(X_train, y_train)\n",
    "y_pred = voting_classifier.predict(X_test)\n",
    "score = accuracy_score(y_test, y_pred)\n",
    "classifier_scores[voting_classifier.__class__.__name__+\" (Hard Voting)\"] = score\n",
    "print(f\"Score Ensemble with hard coding: {score}\")"
   ]
  },
  {
   "cell_type": "code",
   "execution_count": null,
   "metadata": {},
   "outputs": [],
   "source": []
  },
  {
   "cell_type": "markdown",
   "metadata": {},
   "source": [
    "## Voting Classifier with Soft Voting"
   ]
  },
  {
   "cell_type": "code",
   "execution_count": 30,
   "metadata": {},
   "outputs": [
    {
     "name": "stdout",
     "output_type": "stream",
     "text": [
      "Score Ensemble with soft coding: 0.969300739056282\n"
     ]
    }
   ],
   "source": [
    "voting_classifier = VotingClassifier(estimators=[('logistic_classifier', logistic_classifier),('knn_classifier', knn_classifier),('decision_tree_classifier', decision_tree_classifier)], voting='soft')\n",
    "voting_classifier.fit(X_train, y_train)\n",
    "y_pred = voting_classifier.predict(X_test)\n",
    "score = accuracy_score(y_test, y_pred)\n",
    "classifier_scores[voting_classifier.__class__.__name__+\" (Soft Voting)\"] = score\n",
    "print(f\"Score Ensemble with soft coding: {score}\")"
   ]
  },
  {
   "cell_type": "code",
   "execution_count": null,
   "metadata": {},
   "outputs": [],
   "source": []
  },
  {
   "cell_type": "markdown",
   "metadata": {},
   "source": [
    "# Gradient Boosting"
   ]
  },
  {
   "cell_type": "markdown",
   "metadata": {},
   "source": [
    "## Determining the best value of the parameters in gradient boosting"
   ]
  },
  {
   "cell_type": "code",
   "execution_count": 31,
   "metadata": {},
   "outputs": [
    {
     "name": "stdout",
     "output_type": "stream",
     "text": [
      "Learning rate:0.1, n_estimators:100, max_depth:1, Score: 0.9673109721432632\n",
      "Learning rate:0.1, n_estimators:100, max_depth:2, Score: 0.9687322342239909\n",
      "Learning rate:0.1, n_estimators:100, max_depth:3, Score: 0.9675952245594087\n",
      "Learning rate:0.1, n_estimators:200, max_depth:1, Score: 0.9690164866401364\n",
      "Learning rate:0.1, n_estimators:200, max_depth:2, Score: 0.9670267197271177\n",
      "Learning rate:0.1, n_estimators:200, max_depth:3, Score: 0.9667424673109721\n",
      "Learning rate:0.1, n_estimators:300, max_depth:1, Score: 0.9690164866401364\n",
      "Learning rate:0.1, n_estimators:300, max_depth:2, Score: 0.9658897100625355\n",
      "Learning rate:0.1, n_estimators:300, max_depth:3, Score: 0.9664582148948266\n",
      "Learning rate:0.5, n_estimators:100, max_depth:1, Score: 0.9647527003979534\n",
      "Learning rate:0.5, n_estimators:100, max_depth:2, Score: 0.9627629334849346\n",
      "Learning rate:0.5, n_estimators:100, max_depth:3, Score: 0.9627629334849346\n",
      "Learning rate:0.5, n_estimators:200, max_depth:1, Score: 0.9658897100625355\n",
      "Learning rate:0.5, n_estimators:200, max_depth:2, Score: 0.9627629334849346\n",
      "Learning rate:0.5, n_estimators:200, max_depth:3, Score: 0.9636156907333713\n",
      "Learning rate:0.5, n_estimators:300, max_depth:1, Score: 0.9667424673109721\n",
      "Learning rate:0.5, n_estimators:300, max_depth:2, Score: 0.9644684479818079\n",
      "Learning rate:0.5, n_estimators:300, max_depth:3, Score: 0.9644684479818079\n",
      "Learning rate:1.0, n_estimators:100, max_depth:1, Score: 0.9638999431495168\n",
      "Learning rate:1.0, n_estimators:100, max_depth:2, Score: 0.9596361569073337\n",
      "Learning rate:1.0, n_estimators:100, max_depth:3, Score: 0.9559408754974418\n",
      "Learning rate:1.0, n_estimators:200, max_depth:1, Score: 0.9647527003979534\n",
      "Learning rate:1.0, n_estimators:200, max_depth:2, Score: 0.9567936327458784\n",
      "Learning rate:1.0, n_estimators:200, max_depth:3, Score: 0.9545196134167141\n",
      "Learning rate:1.0, n_estimators:300, max_depth:1, Score: 0.9647527003979534\n",
      "Learning rate:1.0, n_estimators:300, max_depth:2, Score: 0.9567936327458784\n",
      "Learning rate:1.0, n_estimators:300, max_depth:3, Score: 0.9556566230812962\n"
     ]
    }
   ],
   "source": [
    "learning_rate_list = [0.1, 0.5, 1.0]\n",
    "n_estimators_list = [100, 200, 300]\n",
    "max_depth_list = [1, 2, 3]\n",
    "max_score = 0\n",
    "best_param = {}\n",
    "for learning_rate_val in learning_rate_list:\n",
    "    for n_estimators_val in n_estimators_list:\n",
    "        for max_depth_val in max_depth_list:\n",
    "            clf = GradientBoostingClassifier(n_estimators=n_estimators_val, learning_rate=learning_rate_val, max_depth=max_depth_val, random_state=0).fit(X_train, y_train)\n",
    "            score = clf.score(X_test, y_test)\n",
    "            print(f\"Learning rate:{learning_rate_val}, n_estimators:{n_estimators_val}, max_depth:{max_depth_val}, Score: {score}\")\n",
    "            if score > max_score:\n",
    "                max_score = score\n",
    "                best_param[\"learning_rate\"] = learning_rate_val\n",
    "                best_param[\"n_estimators\"] = n_estimators_val\n",
    "                best_param[\"max_depth\"] = max_depth_val"
   ]
  },
  {
   "cell_type": "code",
   "execution_count": 32,
   "metadata": {},
   "outputs": [
    {
     "data": {
      "text/plain": [
       "{'learning_rate': 0.1, 'max_depth': 2, 'n_estimators': 100}"
      ]
     },
     "execution_count": 32,
     "metadata": {},
     "output_type": "execute_result"
    }
   ],
   "source": [
    "from sklearn.model_selection import GridSearchCV\n",
    "\n",
    "gbrt = GradientBoostingClassifier(max_depth=3, random_state=0)\n",
    "param_grid = {'n_estimators': [100, 200, 300], 'learning_rate':[0.1, 0.5, 1.0], 'max_depth' : [1, 2, 3]}\n",
    "grid_gbrt = GridSearchCV(gbrt, param_grid, cv=5, n_jobs=-1, return_train_score=True)\n",
    "grid_gbrt.fit(X_train, y_train)\n",
    "grid_gbrt.best_params_"
   ]
  },
  {
   "cell_type": "code",
   "execution_count": 33,
   "metadata": {},
   "outputs": [
    {
     "name": "stdout",
     "output_type": "stream",
     "text": [
      "Best value for n_estimators 200\n",
      "Best value for learning rate 0.1\n",
      "Best value for max_depth 1\n"
     ]
    }
   ],
   "source": [
    "print(\"Best value for n_estimators \"+ str(best_param[\"n_estimators\"]))\n",
    "print(\"Best value for learning rate \"+ str(best_param[\"learning_rate\"]))\n",
    "print(\"Best value for max_depth \"+ str(best_param[\"max_depth\"]))"
   ]
  },
  {
   "cell_type": "markdown",
   "metadata": {},
   "source": [
    "## Based on the best parameters value determined above we fit the gradient boosting classifier"
   ]
  },
  {
   "cell_type": "code",
   "execution_count": 34,
   "metadata": {},
   "outputs": [
    {
     "name": "stdout",
     "output_type": "stream",
     "text": [
      "Prediction score when using gradient boosting classifier 0.9690164866401364\n"
     ]
    }
   ],
   "source": [
    "gradient_boosting_clf = GradientBoostingClassifier(n_estimators=best_param[\"n_estimators\"], learning_rate=best_param[\"learning_rate\"], max_depth=best_param[\"max_depth\"], random_state=0).fit(X_train, y_train)\n",
    "score = gradient_boosting_clf.score(X_test, y_test)\n",
    "classifier_scores[\"Gradient Boosting\"] = score\n",
    "print(\"Prediction score when using gradient boosting classifier \"+ str(score))"
   ]
  },
  {
   "cell_type": "code",
   "execution_count": null,
   "metadata": {},
   "outputs": [],
   "source": []
  },
  {
   "cell_type": "markdown",
   "metadata": {},
   "source": [
    "# Logistic Regression with Adaboost"
   ]
  },
  {
   "cell_type": "code",
   "execution_count": 35,
   "metadata": {},
   "outputs": [
    {
     "name": "stdout",
     "output_type": "stream",
     "text": [
      "Prediction score when using Ada boosting LR classifier 0.9548038658328596\n"
     ]
    }
   ],
   "source": [
    "model_LR = 'Logistic_Regression_Adaboost'\n",
    "\n",
    "logreg = logistic_classifier\n",
    "ada_logreg = AdaBoostClassifier(logreg, n_estimators = 100, learning_rate= 0.5, random_state=0)\n",
    "\n",
    "ada_logreg.fit(X_train, y_train)\n",
    "score = ada_logreg.score(X_test, y_test)\n",
    "\n",
    "classifier_scores[model_LR] = score\n",
    "print(\"Prediction score when using Ada boosting LR classifier \"+ str(score))"
   ]
  },
  {
   "cell_type": "markdown",
   "metadata": {},
   "source": [
    "# Decision Tree with Adaboost"
   ]
  },
  {
   "cell_type": "code",
   "execution_count": 36,
   "metadata": {},
   "outputs": [
    {
     "name": "stdout",
     "output_type": "stream",
     "text": [
      "Prediction score when using Ada boosting DT classifier 0.966173962478681\n"
     ]
    }
   ],
   "source": [
    "params = {\n",
    "     'n_estimators': np.arange(10,300,10),\n",
    "     'learning_rate': [0.01, 0.05, 0.1, 1],\n",
    " }\n",
    "ABC = AdaBoostClassifier(base_estimator = decision_tree_classifier)\n",
    "\n",
    "# run grid search\n",
    "grid_cv = GridSearchCV(ABC, param_grid= params, cv=5, n_jobs=-1)\n",
    "grid_cv.fit(X_train, y_train)\n",
    "grid_cv.best_params_\n",
    "\n",
    "ada = grid_cv.best_estimator_\n",
    "score = ada.score(X_test, y_test)\n",
    "print(\"Prediction score when using Ada boosting DT classifier \"+ str(score))\n",
    "\n",
    "classifier_scores[\"DecistionTree_Adaboost\"] = score"
   ]
  },
  {
   "cell_type": "code",
   "execution_count": null,
   "metadata": {},
   "outputs": [],
   "source": []
  },
  {
   "cell_type": "markdown",
   "metadata": {},
   "source": [
    "# Apply Sequential deep learning model"
   ]
  },
  {
   "cell_type": "code",
   "execution_count": 37,
   "metadata": {},
   "outputs": [],
   "source": [
    "from keras.models import Sequential\n",
    "from keras.layers import Dense\n",
    "from keras.wrappers.scikit_learn import KerasClassifier"
   ]
  },
  {
   "cell_type": "code",
   "execution_count": 38,
   "metadata": {},
   "outputs": [],
   "source": [
    "def get_model():\n",
    "    #create model\n",
    "    m = Sequential()\n",
    "    m.add(Dense(45, input_dim=77, activation='relu'))\n",
    "    m.add(Dense(25, activation='relu'))\n",
    "    m.add(Dense(6, activation='relu'))\n",
    "    m.add(Dense(1, activation='sigmoid'))\n",
    "    #compile model\n",
    "    m.compile(loss='binary_crossentropy', optimizer='adam', metrics=['accuracy'])\n",
    "    return m"
   ]
  },
  {
   "cell_type": "code",
   "execution_count": 39,
   "metadata": {},
   "outputs": [
    {
     "name": "stderr",
     "output_type": "stream",
     "text": [
      "<ipython-input-39-d9efc3e94216>:1: DeprecationWarning: KerasClassifier is deprecated, use Sci-Keras (https://github.com/adriangb/scikeras) instead.\n",
      "  m1 = KerasClassifier(build_fn = get_model, verbose = 0)\n"
     ]
    },
    {
     "data": {
      "text/plain": [
       "GridSearchCV(cv=5,\n",
       "             estimator=<keras.wrappers.scikit_learn.KerasClassifier object at 0x00000220A7F71850>,\n",
       "             n_jobs=-1,\n",
       "             param_grid={'batch_size': [10, 20, 30], 'epochs': [10, 50, 100]})"
      ]
     },
     "execution_count": 39,
     "metadata": {},
     "output_type": "execute_result"
    }
   ],
   "source": [
    "m1 = KerasClassifier(build_fn = get_model, verbose = 0)\n",
    "\n",
    "param_grid = {'batch_size':[10,20,30] , 'epochs':[10, 50, 100]}\n",
    "grid_search = GridSearchCV(estimator= m1, param_grid = param_grid, cv = 5,  n_jobs=-1)\n",
    "\n",
    "grid_search.fit(X_train, y_train)"
   ]
  },
  {
   "cell_type": "code",
   "execution_count": 40,
   "metadata": {},
   "outputs": [
    {
     "data": {
      "text/plain": [
       "<keras.wrappers.scikit_learn.KerasClassifier at 0x220a7f71eb0>"
      ]
     },
     "execution_count": 40,
     "metadata": {},
     "output_type": "execute_result"
    }
   ],
   "source": [
    "grid_search.best_estimator_"
   ]
  },
  {
   "cell_type": "code",
   "execution_count": 41,
   "metadata": {},
   "outputs": [
    {
     "name": "stdout",
     "output_type": "stream",
     "text": [
      "Prediction score when using Keras 3 layer NN classifier 0.9638999700546265\n"
     ]
    }
   ],
   "source": [
    "nn = grid_search.best_estimator_\n",
    "score = nn.score(X_test, y_test)\n",
    "print(\"Prediction score when using Keras 3 layer NN classifier \"+ str(score))\n",
    "\n",
    "classifier_scores[\"Keras_3lclassifier\"] = score"
   ]
  },
  {
   "cell_type": "code",
   "execution_count": null,
   "metadata": {},
   "outputs": [],
   "source": []
  },
  {
   "cell_type": "markdown",
   "metadata": {},
   "source": [
    "# Comparing the various classifiers"
   ]
  },
  {
   "cell_type": "code",
   "execution_count": 42,
   "metadata": {},
   "outputs": [
    {
     "name": "stderr",
     "output_type": "stream",
     "text": [
      "<ipython-input-42-344b329639e2>:9: UserWarning: FixedFormatter should only be used together with FixedLocator\n",
      "  ax.set_xticklabels(labels)\n"
     ]
    },
    {
     "data": {
      "image/png": "[encoded data removed]",
      "text/plain": [
       "<Figure size 432x288 with 1 Axes>"
      ]
     },
     "metadata": {
      "needs_background": "light"
     },
     "output_type": "display_data"
    }
   ],
   "source": [
    "sorted_scores = {k: v for k, v in sorted(classifier_scores.items(), key=lambda item: item[1])}\n",
    "sorted_scored = sorted_scores.items()\n",
    "x, y = sorted_scores.keys(), sorted_scores.values()\n",
    "fig = plt.figure()\n",
    "ax = fig.add_axes([1,1,1,1])\n",
    "ax.plot(x, y)\n",
    "plt.xlabel('Classifier')\n",
    "labels = [ '\\n'.join(wrap(name, 20)) for name in sorted_scores.keys()]\n",
    "ax.set_xticklabels(labels)\n",
    "plt.setp(ax.get_xticklabels(), rotation=30, horizontalalignment='right')\n",
    "plt.ylabel('Score')\n",
    "plt.title('Scores of Different Classifiers')\n",
    "plt.show()"
   ]
  },
  {
   "cell_type": "code",
   "execution_count": 43,
   "metadata": {},
   "outputs": [
    {
     "data": {
      "text/plain": [
       "(0.0, 1.0)"
      ]
     },
     "execution_count": 43,
     "metadata": {},
     "output_type": "execute_result"
    },
    {
     "data": {
      "image/png": "[encoded data removed]",
      "text/plain": [
       "<Figure size 1440x720 with 1 Axes>"
      ]
     },
     "metadata": {
      "needs_background": "light"
     },
     "output_type": "display_data"
    }
   ],
   "source": [
    "sorted_scores = {k: v for k, v in sorted(classifier_scores.items(), key=lambda item: item[1])}\n",
    "\n",
    "classifier_all = list(sorted_scores.keys())\n",
    "score_all = list(sorted_scores.values())\n",
    "\n",
    "fig, ax = plt.subplots(nrows=1, ncols=1, figsize=(20,10))\n",
    "y_pos = np.arange(1, len(classifier_all)+1)\n",
    "\n",
    "hbars = ax.barh(y_pos, score_all, align='center')\n",
    "ax.set_yticks(y_pos)\n",
    "ax.set_yticklabels(classifier_all, rotation=15, fontsize=19)\n",
    "\n",
    "\n",
    "ax.invert_yaxis()  # labels read top-to-bottom\n",
    "ax.set_xlabel('Accuracy')\n",
    "ax.set_title('Accuracy Comparison with all the Classifiers', fontsize=20)\n",
    "\n",
    "# Label with specially formatted floats\n",
    "ax.set_xlim(right=15)  # adjust xlim to fit labels\n",
    "ax.set_xlim(0,1)"
   ]
  },
  {
   "cell_type": "code",
   "execution_count": null,
   "metadata": {},
   "outputs": [],
   "source": []
  },
  {
   "cell_type": "code",
   "execution_count": null,
   "metadata": {},
   "outputs": [],
   "source": []
  }
 ],
 "metadata": {
  "kernelspec": {
   "display_name": "Python 3",
   "language": "python",
   "name": "python3"
  },
  "language_info": {
   "codemirror_mode": {
    "name": "ipython",
    "version": 3
   },
   "file_extension": ".py",
   "mimetype": "text/x-python",
   "name": "python",
   "nbconvert_exporter": "python",
   "pygments_lexer": "ipython3",
   "version": "3.8.5"
  }
 },
 "nbformat": 4,
 "nbformat_minor": 5
}
